{
 "cells": [
  {
   "cell_type": "code",
   "execution_count": 1,
   "metadata": {},
   "outputs": [],
   "source": [
    "import ot\n",
    "import sys\n",
    "import warnings\n",
    "import numpy as np\n",
    "import pandas as pd\n",
    "import matplotlib.pyplot as plt\n",
    "from sklearn.metrics import accuracy_score\n",
    "from sklearn.cluster import SpectralClustering\n",
    "from sklearn.neighbors import KNeighborsClassifier\n",
    "warnings.filterwarnings(\"ignore\")\n",
    "sys.path.append('../')\n",
    "from HOTDA import *"
   ]
  },
  {
   "cell_type": "code",
   "execution_count": 2,
   "metadata": {},
   "outputs": [],
   "source": [
    "class Model_HOT_DA:\n",
    "    def __init__(self):\n",
    "        self.classifier = KNeighborsClassifier(n_neighbors=1) \n",
    "    def fit(self,X,y,X_test,y_test):\n",
    "        self.X = X \n",
    "        self.y=y\n",
    "        self.X_test = X_test \n",
    "        self.y_test = y_test\n",
    "        self.clustering = SpectralClustering(n_clusters=65, assign_labels='kmeans',affinity=\"nearest_neighbors\",n_neighbors=75).fit(self.X_test) \n",
    "        S,a,mu,self.y_Transported_S=Source_target_processing(self.X,self.y)\n",
    "        T,b,nu,yxyys=Source_target_processing(self.X_test,self.clustering.labels_)  \n",
    "        HOT,W=Hot(S,a,mu,T,b,nu,100,100)\n",
    "        self.X_Transported_S=Mapping(S,T,a,b,HOT,100)\n",
    "        self.classifier = KNeighborsClassifier(n_neighbors=1)\n",
    "        self.classifier.fit(self.X_Transported_S,self.y_Transported_S)\n",
    "    def predict(self,X_test,y_t):\n",
    "        self.y_test=y_t\n",
    "        return self.classifier.score(self.X_test,y_t)"
   ]
  },
  {
   "cell_type": "markdown",
   "metadata": {},
   "source": [
    "art->clipart"
   ]
  },
  {
   "cell_type": "code",
   "execution_count": 3,
   "metadata": {},
   "outputs": [],
   "source": [
    "SourcedataFile = \"/data/\"+ \"Art_Art\"+\".csv\"\n",
    "Sourcedata = pd.read_csv(SourcedataFile, sep=\",\", header=None)\n",
    "X_src = Sourcedata.loc[:,:2047].to_numpy() \n",
    "Y_src = Sourcedata.loc[:,2048].to_numpy() \n",
    "TargetdataFile = \"/data/\"+ \"Art_Clipart\"+\".csv\"\n",
    "Targetdata = pd.read_csv(TargetdataFile, sep=\",\", header=None)\n",
    "X_tar = Targetdata.loc[:,:2047].to_numpy()  \n",
    "Y_tar = Targetdata.loc[:,2048].to_numpy() "
   ]
  },
  {
   "cell_type": "code",
   "execution_count": 4,
   "metadata": {},
   "outputs": [
    {
     "data": {
      "text/plain": [
       "0.4856815578465063"
      ]
     },
     "execution_count": 4,
     "metadata": {},
     "output_type": "execute_result"
    }
   ],
   "source": [
    "mod=Model_HOT_DA()\n",
    "mod.fit(X_src,Y_src,X_tar,Y_tar)\n",
    "mod.predict(X_tar,Y_tar)"
   ]
  },
  {
   "cell_type": "markdown",
   "metadata": {},
   "source": [
    "art->product"
   ]
  },
  {
   "cell_type": "code",
   "execution_count": 5,
   "metadata": {},
   "outputs": [],
   "source": [
    "SourcedataFile = \"/data/\"+ \"Art_Art\"+\".csv\"\n",
    "Sourcedata = pd.read_csv(SourcedataFile, sep=\",\", header=None)\n",
    "X_src = Sourcedata.loc[:,:2047].to_numpy() \n",
    "Y_src = Sourcedata.loc[:,2048].to_numpy() \n",
    "TargetdataFile = \"/data/\"+ \"Art_Product\"+\".csv\"\n",
    "Targetdata = pd.read_csv(TargetdataFile, sep=\",\", header=None)\n",
    "X_tar = Targetdata.loc[:,:2047].to_numpy()  \n",
    "Y_tar = Targetdata.loc[:,2048].to_numpy() "
   ]
  },
  {
   "cell_type": "code",
   "execution_count": 6,
   "metadata": {},
   "outputs": [
    {
     "data": {
      "text/plain": [
       "0.6830367199819779"
      ]
     },
     "execution_count": 6,
     "metadata": {},
     "output_type": "execute_result"
    }
   ],
   "source": [
    "mod=Model_HOT_DA()\n",
    "mod.fit(X_src,Y_src,X_tar,Y_tar)\n",
    "mod.predict(X_tar,Y_tar)"
   ]
  },
  {
   "cell_type": "markdown",
   "metadata": {},
   "source": [
    "art->realworld"
   ]
  },
  {
   "cell_type": "code",
   "execution_count": 7,
   "metadata": {},
   "outputs": [],
   "source": [
    "SourcedataFile = \"/data/\"+ \"Art_Art\"+\".csv\"\n",
    "Sourcedata = pd.read_csv(SourcedataFile, sep=\",\", header=None)\n",
    "X_src = Sourcedata.loc[:,:2047].to_numpy() \n",
    "Y_src = Sourcedata.loc[:,2048].to_numpy() \n",
    "TargetdataFile = \"/data/\"+ \"Art_RealWorld\"+\".csv\"\n",
    "Targetdata = pd.read_csv(TargetdataFile, sep=\",\", header=None)\n",
    "X_tar = Targetdata.loc[:,:2047].to_numpy()  \n",
    "Y_tar = Targetdata.loc[:,2048].to_numpy() "
   ]
  },
  {
   "cell_type": "code",
   "execution_count": 8,
   "metadata": {},
   "outputs": [
    {
     "data": {
      "text/plain": [
       "0.7397291714482442"
      ]
     },
     "execution_count": 8,
     "metadata": {},
     "output_type": "execute_result"
    }
   ],
   "source": [
    "mod=Model_HOT_DA()\n",
    "mod.fit(X_src,Y_src,X_tar,Y_tar)\n",
    "mod.predict(X_tar,Y_tar)"
   ]
  },
  {
   "cell_type": "markdown",
   "metadata": {},
   "source": [
    "clipart->art"
   ]
  },
  {
   "cell_type": "code",
   "execution_count": 9,
   "metadata": {},
   "outputs": [],
   "source": [
    "SourcedataFile = \"/data/\"+ \"Clipart_Clipart\"+\".csv\"\n",
    "Sourcedata = pd.read_csv(SourcedataFile, sep=\",\", header=None)\n",
    "X_src = Sourcedata.loc[:,:2047].to_numpy() \n",
    "Y_src = Sourcedata.loc[:,2048].to_numpy() \n",
    "TargetdataFile = \"/data/\"+ \"Clipart_Art\"+\".csv\"\n",
    "Targetdata = pd.read_csv(TargetdataFile, sep=\",\", header=None)\n",
    "X_tar = Targetdata.loc[:,:2047].to_numpy()  \n",
    "Y_tar = Targetdata.loc[:,2048].to_numpy() "
   ]
  },
  {
   "cell_type": "code",
   "execution_count": 10,
   "metadata": {},
   "outputs": [
    {
     "data": {
      "text/plain": [
       "0.6172561387699932"
      ]
     },
     "execution_count": 10,
     "metadata": {},
     "output_type": "execute_result"
    }
   ],
   "source": [
    "mod=Model_HOT_DA()\n",
    "mod.fit(X_src,Y_src,X_tar,Y_tar)\n",
    "mod.predict(X_tar,Y_tar)"
   ]
  },
  {
   "cell_type": "markdown",
   "metadata": {},
   "source": [
    "clipart->product"
   ]
  },
  {
   "cell_type": "code",
   "execution_count": 11,
   "metadata": {},
   "outputs": [],
   "source": [
    "SourcedataFile = \"/data/\"+ \"Clipart_Clipart\"+\".csv\"\n",
    "Sourcedata = pd.read_csv(SourcedataFile, sep=\",\", header=None)\n",
    "X_src = Sourcedata.loc[:,:2047].to_numpy() \n",
    "Y_src = Sourcedata.loc[:,2048].to_numpy() \n",
    "TargetdataFile = \"/data/\"+ \"Clipart_Product\"+\".csv\"\n",
    "Targetdata = pd.read_csv(TargetdataFile, sep=\",\", header=None)\n",
    "X_tar = Targetdata.loc[:,:2047].to_numpy()  \n",
    "Y_tar = Targetdata.loc[:,2048].to_numpy() "
   ]
  },
  {
   "cell_type": "code",
   "execution_count": 12,
   "metadata": {},
   "outputs": [
    {
     "data": {
      "text/plain": [
       "0.6093714800630773"
      ]
     },
     "execution_count": 12,
     "metadata": {},
     "output_type": "execute_result"
    }
   ],
   "source": [
    "mod=Model_HOT_DA()\n",
    "mod.fit(X_src,Y_src,X_tar,Y_tar)\n",
    "mod.predict(X_tar,Y_tar)"
   ]
  },
  {
   "cell_type": "markdown",
   "metadata": {},
   "source": [
    "clipart->realworld"
   ]
  },
  {
   "cell_type": "code",
   "execution_count": 13,
   "metadata": {},
   "outputs": [],
   "source": [
    "SourcedataFile = \"/data/\"+ \"Clipart_Clipart\"+\".csv\"\n",
    "Sourcedata = pd.read_csv(SourcedataFile, sep=\",\", header=None)\n",
    "X_src = Sourcedata.loc[:,:2047].to_numpy() \n",
    "Y_src = Sourcedata.loc[:,2048].to_numpy() \n",
    "TargetdataFile = \"/data/\"+ \"Clipart_RealWorld\"+\".csv\"\n",
    "Targetdata = pd.read_csv(TargetdataFile, sep=\",\", header=None)\n",
    "X_tar = Targetdata.loc[:,:2047].to_numpy()  \n",
    "Y_tar = Targetdata.loc[:,2048].to_numpy() "
   ]
  },
  {
   "cell_type": "code",
   "execution_count": 14,
   "metadata": {},
   "outputs": [
    {
     "data": {
      "text/plain": [
       "0.6545788386504475"
      ]
     },
     "execution_count": 14,
     "metadata": {},
     "output_type": "execute_result"
    }
   ],
   "source": [
    "mod=Model_HOT_DA()\n",
    "mod.fit(X_src,Y_src,X_tar,Y_tar)\n",
    "mod.predict(X_tar,Y_tar)"
   ]
  },
  {
   "cell_type": "markdown",
   "metadata": {},
   "source": [
    "product->art"
   ]
  },
  {
   "cell_type": "code",
   "execution_count": 15,
   "metadata": {},
   "outputs": [],
   "source": [
    "SourcedataFile = \"/data/\"+ \"Product_Product\"+\".csv\"\n",
    "Sourcedata = pd.read_csv(SourcedataFile, sep=\",\", header=None)\n",
    "X_src = Sourcedata.loc[:,:2047].to_numpy() \n",
    "Y_src = Sourcedata.loc[:,2048].to_numpy() \n",
    "TargetdataFile = \"/data/\"+ \"Product_Art\"+\".csv\"\n",
    "Targetdata = pd.read_csv(TargetdataFile, sep=\",\", header=None)\n",
    "X_tar = Targetdata.loc[:,:2047].to_numpy()  \n",
    "Y_tar = Targetdata.loc[:,2048].to_numpy() "
   ]
  },
  {
   "cell_type": "code",
   "execution_count": 16,
   "metadata": {},
   "outputs": [
    {
     "data": {
      "text/plain": [
       "0.4750721054800165"
      ]
     },
     "execution_count": 16,
     "metadata": {},
     "output_type": "execute_result"
    }
   ],
   "source": [
    "mod=Model_HOT_DA()\n",
    "mod.fit(X_src,Y_src,X_tar,Y_tar)\n",
    "mod.predict(X_tar,Y_tar)"
   ]
  },
  {
   "cell_type": "markdown",
   "metadata": {},
   "source": [
    "product->clipart"
   ]
  },
  {
   "cell_type": "code",
   "execution_count": 17,
   "metadata": {},
   "outputs": [],
   "source": [
    "SourcedataFile = \"/data/\"+ \"Product_Product\"+\".csv\"\n",
    "Sourcedata = pd.read_csv(SourcedataFile, sep=\",\", header=None)\n",
    "X_src = Sourcedata.loc[:,:2047].to_numpy() \n",
    "Y_src = Sourcedata.loc[:,2048].to_numpy() \n",
    "TargetdataFile = \"/data/\"+ \"Product_Clipart\"+\".csv\"\n",
    "Targetdata = pd.read_csv(TargetdataFile, sep=\",\", header=None)\n",
    "X_tar = Targetdata.loc[:,:2047].to_numpy()  \n",
    "Y_tar = Targetdata.loc[:,2048].to_numpy() "
   ]
  },
  {
   "cell_type": "code",
   "execution_count": 18,
   "metadata": {},
   "outputs": [
    {
     "data": {
      "text/plain": [
       "0.38877434135166095"
      ]
     },
     "execution_count": 18,
     "metadata": {},
     "output_type": "execute_result"
    }
   ],
   "source": [
    "mod=Model_HOT_DA()\n",
    "mod.fit(X_src,Y_src,X_tar,Y_tar)\n",
    "mod.predict(X_tar,Y_tar)"
   ]
  },
  {
   "cell_type": "markdown",
   "metadata": {},
   "source": [
    "product->realworld"
   ]
  },
  {
   "cell_type": "code",
   "execution_count": 19,
   "metadata": {},
   "outputs": [],
   "source": [
    "SourcedataFile = \"/data/\"+ \"Product_Product\"+\".csv\"\n",
    "Sourcedata = pd.read_csv(SourcedataFile, sep=\",\", header=None)\n",
    "X_src = Sourcedata.loc[:,:2047].to_numpy() \n",
    "Y_src = Sourcedata.loc[:,2048].to_numpy() \n",
    "TargetdataFile = \"/data/\"+ \"Product_RealWorld\"+\".csv\"\n",
    "Targetdata = pd.read_csv(TargetdataFile, sep=\",\", header=None)\n",
    "X_tar = Targetdata.loc[:,:2047].to_numpy()  \n",
    "Y_tar = Targetdata.loc[:,2048].to_numpy() "
   ]
  },
  {
   "cell_type": "code",
   "execution_count": 20,
   "metadata": {},
   "outputs": [
    {
     "data": {
      "text/plain": [
       "0.7528115675923801"
      ]
     },
     "execution_count": 20,
     "metadata": {},
     "output_type": "execute_result"
    }
   ],
   "source": [
    "mod=Model_HOT_DA()\n",
    "mod.fit(X_src,Y_src,X_tar,Y_tar)\n",
    "mod.predict(X_tar,Y_tar)"
   ]
  },
  {
   "cell_type": "markdown",
   "metadata": {},
   "source": [
    "realworld->art"
   ]
  },
  {
   "cell_type": "code",
   "execution_count": 21,
   "metadata": {},
   "outputs": [],
   "source": [
    "SourcedataFile = \"/data/\"+ \"RealWorld_RealWorld\"+\".csv\"\n",
    "Sourcedata = pd.read_csv(SourcedataFile, sep=\",\", header=None)\n",
    "X_src = Sourcedata.loc[:,:2047].to_numpy() \n",
    "Y_src = Sourcedata.loc[:,2048].to_numpy() \n",
    "TargetdataFile = \"/data/\"+ \"RealWorld_Art\"+\".csv\"\n",
    "Targetdata = pd.read_csv(TargetdataFile, sep=\",\", header=None)\n",
    "X_tar = Targetdata.loc[:,:2047].to_numpy()  \n",
    "Y_tar = Targetdata.loc[:,2048].to_numpy() "
   ]
  },
  {
   "cell_type": "code",
   "execution_count": 22,
   "metadata": {},
   "outputs": [
    {
     "data": {
      "text/plain": [
       "0.696102725839153"
      ]
     },
     "execution_count": 22,
     "metadata": {},
     "output_type": "execute_result"
    }
   ],
   "source": [
    "mod=Model_HOT_DA()\n",
    "mod.fit(X_src,Y_src,X_tar,Y_tar)\n",
    "mod.predict(X_tar,Y_tar)"
   ]
  },
  {
   "cell_type": "markdown",
   "metadata": {},
   "source": [
    "realworld->clipart"
   ]
  },
  {
   "cell_type": "code",
   "execution_count": 23,
   "metadata": {},
   "outputs": [],
   "source": [
    "SourcedataFile = \"/data/\"+ \"RealWorld_RealWorld\"+\".csv\"\n",
    "Sourcedata = pd.read_csv(SourcedataFile, sep=\",\", header=None)\n",
    "X_src = Sourcedata.loc[:,:2047].to_numpy() \n",
    "Y_src = Sourcedata.loc[:,2048].to_numpy() \n",
    "TargetdataFile = \"/data/\"+ \"RealWorld_Clipart\"+\".csv\"\n",
    "Targetdata = pd.read_csv(TargetdataFile, sep=\",\", header=None)\n",
    "X_tar = Targetdata.loc[:,:2047].to_numpy()  \n",
    "Y_tar = Targetdata.loc[:,2048].to_numpy() "
   ]
  },
  {
   "cell_type": "code",
   "execution_count": 24,
   "metadata": {},
   "outputs": [
    {
     "data": {
      "text/plain": [
       "0.47674684994272626"
      ]
     },
     "execution_count": 24,
     "metadata": {},
     "output_type": "execute_result"
    }
   ],
   "source": [
    "mod=Model_HOT_DA()\n",
    "mod.fit(X_src,Y_src,X_tar,Y_tar)\n",
    "mod.predict(X_tar,Y_tar)"
   ]
  },
  {
   "cell_type": "markdown",
   "metadata": {},
   "source": [
    "realworld->product"
   ]
  },
  {
   "cell_type": "code",
   "execution_count": 25,
   "metadata": {},
   "outputs": [],
   "source": [
    "SourcedataFile = \"/data/\"+ \"RealWorld_RealWorld\"+\".csv\"\n",
    "Sourcedata = pd.read_csv(SourcedataFile, sep=\",\", header=None)\n",
    "X_src = Sourcedata.loc[:,:2047].to_numpy() \n",
    "Y_src = Sourcedata.loc[:,2048].to_numpy() \n",
    "TargetdataFile = \"/data/\"+ \"RealWorld_Product\"+\".csv\"\n",
    "Targetdata = pd.read_csv(TargetdataFile, sep=\",\", header=None)\n",
    "X_tar = Targetdata.loc[:,:2047].to_numpy()  \n",
    "Y_tar = Targetdata.loc[:,2048].to_numpy() "
   ]
  },
  {
   "cell_type": "code",
   "execution_count": 26,
   "metadata": {},
   "outputs": [
    {
     "data": {
      "text/plain": [
       "0.7925177874684416"
      ]
     },
     "execution_count": 26,
     "metadata": {},
     "output_type": "execute_result"
    }
   ],
   "source": [
    "mod=Model_HOT_DA()\n",
    "mod.fit(X_src,Y_src,X_tar,Y_tar)\n",
    "mod.predict(X_tar,Y_tar)"
   ]
  }
 ],
 "metadata": {
  "kernelspec": {
   "display_name": "Python 3",
   "language": "python",
   "name": "python3"
  },
  "language_info": {
   "codemirror_mode": {
    "name": "ipython",
    "version": 3
   },
   "file_extension": ".py",
   "mimetype": "text/x-python",
   "name": "python",
   "nbconvert_exporter": "python",
   "pygments_lexer": "ipython3",
   "version": "3.8.8"
  }
 },
 "nbformat": 4,
 "nbformat_minor": 4
}
