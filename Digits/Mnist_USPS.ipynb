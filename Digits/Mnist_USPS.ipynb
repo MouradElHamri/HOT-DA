{
 "cells": [
  {
   "cell_type": "markdown",
   "metadata": {},
   "source": [
    "# import library"
   ]
  },
  {
   "cell_type": "code",
   "execution_count": 1,
   "metadata": {},
   "outputs": [],
   "source": [
    "import numpy as np\n",
    "from scipy.spatial import distance\n",
    "import ot\n",
    "import matplotlib.pyplot as plt\n",
    "from sklearn.neighbors import KNeighborsClassifier\n",
    "import pandas as pd\n",
    "from scipy.spatial.distance import cdist\n",
    "from sklearn.utils import shuffle\n",
    "from sklearn.metrics import accuracy_score\n",
    "from scipy.spatial.distance import pdist\n",
    "from sklearn.metrics.pairwise import rbf_kernel\n",
    "import matplotlib.pyplot as plt\n",
    "from sklearn import svm\n",
    "from sklearn import metrics\n",
    "from sklearn.gaussian_process.kernels import RBF\n",
    "import numpy as np\n",
    "from sklearn.cluster import SpectralClustering\n",
    "from sklearn.model_selection import train_test_split\n",
    "from sklearn.metrics import accuracy_score\n",
    "import warnings\n",
    "import scipy as sp\n",
    "import sys\n",
    "sys.path.append('../')\n",
    "from HOTDA import *\n",
    "warnings.filterwarnings(\"ignore\")\n",
    "%matplotlib notebook\n",
    "import time"
   ]
  },
  {
   "cell_type": "markdown",
   "metadata": {},
   "source": [
    "# ----------------------------------USPS to MNIST-------------------------------------"
   ]
  },
  {
   "cell_type": "code",
   "execution_count": 2,
   "metadata": {},
   "outputs": [],
   "source": [
    "data=sp.io.loadmat('./data/MNIST_vs_USPS.mat')\n",
    "X_src=data['X_src']\n",
    "Y_src=data['Y_src']\n",
    "X_tar=data['X_tar']\n",
    "Y_tar=data['Y_tar']"
   ]
  },
  {
   "cell_type": "code",
   "execution_count": 3,
   "metadata": {},
   "outputs": [],
   "source": [
    "Y_src=Y_src.flatten()-1\n",
    "Y_tar=Y_tar.flatten()-1\n",
    "X_src=X_src.T\n",
    "X_tar=X_tar.T"
   ]
  },
  {
   "cell_type": "code",
   "execution_count": 4,
   "metadata": {},
   "outputs": [],
   "source": [
    "class Model_HOT_DA:\n",
    "    def __init__(self):\n",
    "        self.classifier = KNeighborsClassifier(n_neighbors=1)\n",
    "\n",
    "\n",
    "        \n",
    "    def fit(self,X,y,X_test,y_test):\n",
    "        self.X = X \n",
    "        self.y=y\n",
    "        self.X_test = X_test\n",
    "        self.y_test = y_test\n",
    "        self.clustering = SpectralClustering(n_clusters=10,eigen_solver='arpack', assign_labels='kmeans',affinity=\"nearest_neighbors\",n_neighbors=7).fit(self.X_test)     #we can use wasserstein SpectralClustering instead of SpectralClustering\n",
    "        S,a,mu,self.y_Transported_S=Source_target_processing(self.X,self.y)\n",
    "        T,b,nu,yxyys=Source_target_processing(self.X_test,self.clustering.labels_)  \n",
    "        HOT,W=Hot(S,a,mu,T,b,nu,0.2,1)\n",
    "        self.X_Transported_S=Mapping(S,T,a,b,HOT,0.1)\n",
    "        self.classifier = KNeighborsClassifier(n_neighbors=1)\n",
    "        self.classifier.fit(self.X_Transported_S,self.y_Transported_S)\n",
    "        \n",
    "        \n",
    "    def predict(self,X_test,y_test):\n",
    "        self.y_test=y_test\n",
    "        return self.classifier.score(self.X_test,y_test)"
   ]
  },
  {
   "cell_type": "code",
   "execution_count": 5,
   "metadata": {},
   "outputs": [
    {
     "name": "stdout",
     "output_type": "stream",
     "text": [
      "Warning: numerical errors at iteration 0\n",
      "run time 3.1443331241607666\n"
     ]
    }
   ],
   "source": [
    "t=time.time()\n",
    "mod=Model_HOT_DA()\n",
    "mod.fit(X_src,Y_src,X_tar,Y_tar)\n",
    "t2=time.time()\n",
    "print(\"run time\",t2-t)"
   ]
  },
  {
   "cell_type": "code",
   "execution_count": 6,
   "metadata": {},
   "outputs": [
    {
     "data": {
      "text/plain": [
       "0.7638888888888888"
      ]
     },
     "execution_count": 6,
     "metadata": {},
     "output_type": "execute_result"
    }
   ],
   "source": [
    "mod.predict(X_tar,Y_tar)"
   ]
  }
 ],
 "metadata": {
  "kernelspec": {
   "display_name": "Python 3",
   "language": "python",
   "name": "python3"
  },
  "language_info": {
   "codemirror_mode": {
    "name": "ipython",
    "version": 3
   },
   "file_extension": ".py",
   "mimetype": "text/x-python",
   "name": "python",
   "nbconvert_exporter": "python",
   "pygments_lexer": "ipython3",
   "version": "3.8.8"
  }
 },
 "nbformat": 4,
 "nbformat_minor": 4
}
